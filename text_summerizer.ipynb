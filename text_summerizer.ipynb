{
  "nbformat": 4,
  "nbformat_minor": 0,
  "metadata": {
    "colab": {
      "provenance": [],
      "gpuType": "T4",
      "authorship_tag": "ABX9TyOywntHd5mdMC6EQrUL8exD",
      "include_colab_link": true
    },
    "kernelspec": {
      "name": "python3",
      "display_name": "Python 3"
    },
    "language_info": {
      "name": "python"
    },
    "accelerator": "GPU"
  },
  "cells": [
    {
      "cell_type": "markdown",
      "metadata": {
        "id": "view-in-github",
        "colab_type": "text"
      },
      "source": [
        "<a href=\"https://colab.research.google.com/github/nagilla-jashwanth/text_summerizer/blob/main/text_summerizer.ipynb\" target=\"_parent\"><img src=\"https://colab.research.google.com/assets/colab-badge.svg\" alt=\"Open In Colab\"/></a>"
      ]
    },
    {
      "cell_type": "code",
      "execution_count": null,
      "metadata": {
        "id": "0CpRiRjPm1HX"
      },
      "outputs": [],
      "source": [
        "!pip install transformers torch gradio\n"
      ]
    },
    {
      "cell_type": "code",
      "source": [
        "from transformers import pipeline"
      ],
      "metadata": {
        "id": "5ge4nG1DnMPS"
      },
      "execution_count": null,
      "outputs": []
    },
    {
      "cell_type": "code",
      "source": [
        "summarizer = pipeline(\"summarization\", model=\"facebook/bart-large-cnn\")\n"
      ],
      "metadata": {
        "id": "u8QywL9_nMe_"
      },
      "execution_count": null,
      "outputs": []
    },
    {
      "cell_type": "code",
      "source": [
        "def summarize_text(text):\n",
        "    summary = summarizer(\n",
        "        text,\n",
        "        max_length=130,  # maximum summary length\n",
        "        min_length=30,   # minimum summary length\n",
        "        do_sample=False  # deterministic output\n",
        "    )[0]['summary_text']\n",
        "    return summary\n"
      ],
      "metadata": {
        "id": "ONSWFM9DnMhY"
      },
      "execution_count": null,
      "outputs": []
    },
    {
      "cell_type": "code",
      "source": [
        "s=\"\"\"Diwali, the festival of lights, is a major Hindu festival that symbolizes the victory of good over evil and light over darkness. Celebrated over several days, it involves deep cleaning and decorating homes with diyas (earthen lamps) and rangoli (colored powder or flower designs). The festival is marked by shopping for new clothes, exchanging gifts and sweets, and performing Lakshmi Puja to pray for prosperity. A key historical significance is the return of Lord Rama to Ayodhya after his 14-year exile and his victory over the demon king Ravana. The festivities include fireworks, family gatherings, and a joyous atmosphere that spreads happiness and togetherness. Pre-Diwali preparations Cleaning and decorating: Weeks before Diwali, homes are meticulously cleaned and renovated. The homes are then decorated with vibrant rangoli patterns on the floor, colorful lights, and diyas or lamps. Shopping: Markets are bustling with activity as people buy new clothes, gifts, sweets, and fireworks.Atmosphere: The air fills with a sense of excitement and anticipation as families prepare for the celebrations. The main festival Thematic significance: Diwali is a time to reflect on the triumph of light over darkness and good over evil, a theme central to various myths and legends.The return of Lord Rama: A significant part of the Diwali story is the return of Lord Rama to Ayodhya with his wife Sita and brother Lakshmana after defeating the demon king Ravana. The people of Ayodhya lit lamps to welcome their beloved prince, which is why the festival is called the \"festival of lights\".Religious ceremonies: Many families begin the day with religious ceremonies and prayers, especially Lakshmi Puja, to honor Goddess Lakshmi, the deity of wealth and prosperity, and Lord Ganesha.Family and community: The festival is a time for families to come together, visit friends, and exchange gifts and sweets. Festive activities: Evenings are filled with joy as families and friends gather. The night sky illuminates with fireworks, and the sound of firecrackers adds to the celebratory mood. Modern-day DiwaliEnvironmental awareness: In recent years, there has been a growing awareness of the environmental impact of traditional firecrackers. This has led to an increase in the celebration of a \"Green Diwali,\" with more people opting for eco-friendly firecrackers or other ways to celebrate, like using lights or attending cultural events. Global celebration: Diwali is celebrated by millions of people, not just in India but also by the Indian diaspora around the world. \"\"\"\n",
        "print(summarize_text(s))"
      ],
      "metadata": {
        "id": "e4pu_cI2nMk5"
      },
      "execution_count": null,
      "outputs": []
    }
  ]
}